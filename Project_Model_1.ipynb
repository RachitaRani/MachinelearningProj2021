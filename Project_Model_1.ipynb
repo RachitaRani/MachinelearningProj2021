{
 "cells": [
  {
   "cell_type": "code",
   "execution_count": 1,
   "metadata": {},
   "outputs": [],
   "source": [
    "import pandas as pd\n",
    "import numpy as np \n",
    "from sklearn.preprocessing import LabelEncoder \n",
    "from sklearn.tree import DecisionTreeClassifier \n",
    "from sklearn.model_selection import train_test_split \n",
    "from sklearn import metrics \n",
    "import seaborn as sns \n",
    "import matplotlib.pyplot as plt \n",
    "from sklearn import preprocessing, svm  \n",
    "from sklearn.linear_model import LinearRegression\n",
    "from sklearn import datasets, linear_model, metrics\n",
    "from sklearn.svm import SVC  \n",
    "from sklearn.ensemble import RandomForestClassifier\n",
    "import seaborn as sns\n",
    "from sklearn.feature_selection import chi2,SelectKBest,f_classif,mutual_info_classif"
   ]
  },
  {
   "cell_type": "code",
   "execution_count": 2,
   "metadata": {},
   "outputs": [
    {
     "name": "stderr",
     "output_type": "stream",
     "text": [
      "C:\\Users\\babu saheb sah\\Anaconda3\\lib\\site-packages\\IPython\\core\\interactiveshell.py:3057: DtypeWarning: Columns (4) have mixed types. Specify dtype option on import or set low_memory=False.\n",
      "  interactivity=interactivity, compiler=compiler, result=result)\n"
     ]
    },
    {
     "data": {
      "text/html": [
       "<div>\n",
       "<style scoped>\n",
       "    .dataframe tbody tr th:only-of-type {\n",
       "        vertical-align: middle;\n",
       "    }\n",
       "\n",
       "    .dataframe tbody tr th {\n",
       "        vertical-align: top;\n",
       "    }\n",
       "\n",
       "    .dataframe thead th {\n",
       "        text-align: right;\n",
       "    }\n",
       "</style>\n",
       "<table border=\"1\" class=\"dataframe\">\n",
       "  <thead>\n",
       "    <tr style=\"text-align: right;\">\n",
       "      <th></th>\n",
       "      <th>Patient ID</th>\n",
       "      <th>Age recode with &lt;1 year olds</th>\n",
       "      <th>Sex</th>\n",
       "      <th>Grade</th>\n",
       "      <th>Total number of in situ/malignant tumors for patient</th>\n",
       "      <th>T value - based on AJCC 3rd (1988-2003)</th>\n",
       "      <th>N value - based on AJCC 3rd (1988-2003)</th>\n",
       "      <th>M value - based on AJCC 3rd (1988-2003)</th>\n",
       "      <th>Primary Site - labeled</th>\n",
       "      <th>Primary Site</th>\n",
       "      <th>Type of Reporting Source</th>\n",
       "      <th>First malignant primary indicator</th>\n",
       "      <th>Sequence number</th>\n",
       "      <th>CS lymph nodes (2004-2015)</th>\n",
       "      <th>Histology recode - broad groupings</th>\n",
       "      <th>RX Summ--Scope Reg LN Sur (2003+)</th>\n",
       "      <th>RX Summ--Surg Prim Site (1998+)</th>\n",
       "      <th>CS tumor size (2004-2015)</th>\n",
       "      <th>Survival months</th>\n",
       "    </tr>\n",
       "  </thead>\n",
       "  <tbody>\n",
       "    <tr>\n",
       "      <th>0</th>\n",
       "      <td>273</td>\n",
       "      <td>75-79 years</td>\n",
       "      <td>Female</td>\n",
       "      <td>Well differentiated; Grade I</td>\n",
       "      <td>2</td>\n",
       "      <td>Blank(s)</td>\n",
       "      <td>Blank(s)</td>\n",
       "      <td>Blank(s)</td>\n",
       "      <td>C34.3-Lower lobe, lung</td>\n",
       "      <td>343</td>\n",
       "      <td>Hospital inpatient/outpatient or clinic</td>\n",
       "      <td>No</td>\n",
       "      <td>2nd of 2 or more primaries</td>\n",
       "      <td>0</td>\n",
       "      <td>8140-8389: adenomas and adenocarcinomas</td>\n",
       "      <td>4 or more regional lymph nodes removed</td>\n",
       "      <td>30</td>\n",
       "      <td>31</td>\n",
       "      <td>128</td>\n",
       "    </tr>\n",
       "    <tr>\n",
       "      <th>1</th>\n",
       "      <td>390</td>\n",
       "      <td>60-64 years</td>\n",
       "      <td>Male</td>\n",
       "      <td>Poorly differentiated; Grade III</td>\n",
       "      <td>2</td>\n",
       "      <td>T4</td>\n",
       "      <td>N3</td>\n",
       "      <td>M0</td>\n",
       "      <td>C34.0-Main bronchus</td>\n",
       "      <td>340</td>\n",
       "      <td>Hospital inpatient/outpatient or clinic</td>\n",
       "      <td>No</td>\n",
       "      <td>2nd of 2 or more primaries</td>\n",
       "      <td>Blank(s)</td>\n",
       "      <td>8140-8389: adenomas and adenocarcinomas</td>\n",
       "      <td>Blank(s)</td>\n",
       "      <td>0</td>\n",
       "      <td>Blank(s)</td>\n",
       "      <td>1</td>\n",
       "    </tr>\n",
       "    <tr>\n",
       "      <th>2</th>\n",
       "      <td>455</td>\n",
       "      <td>75-79 years</td>\n",
       "      <td>Male</td>\n",
       "      <td>Poorly differentiated; Grade III</td>\n",
       "      <td>2</td>\n",
       "      <td>Blank(s)</td>\n",
       "      <td>Blank(s)</td>\n",
       "      <td>Blank(s)</td>\n",
       "      <td>C34.3-Lower lobe, lung</td>\n",
       "      <td>343</td>\n",
       "      <td>Hospital inpatient/outpatient or clinic</td>\n",
       "      <td>No</td>\n",
       "      <td>2nd of 2 or more primaries</td>\n",
       "      <td>0</td>\n",
       "      <td>8050-8089: squamous cell neoplasms</td>\n",
       "      <td>4 or more regional lymph nodes removed</td>\n",
       "      <td>30</td>\n",
       "      <td>55</td>\n",
       "      <td>5</td>\n",
       "    </tr>\n",
       "    <tr>\n",
       "      <th>3</th>\n",
       "      <td>542</td>\n",
       "      <td>75-79 years</td>\n",
       "      <td>Female</td>\n",
       "      <td>Undifferentiated; anaplastic; Grade IV</td>\n",
       "      <td>2</td>\n",
       "      <td>TX</td>\n",
       "      <td>N3</td>\n",
       "      <td>M1</td>\n",
       "      <td>C34.1-Upper lobe, lung</td>\n",
       "      <td>341</td>\n",
       "      <td>Hospital inpatient/outpatient or clinic</td>\n",
       "      <td>No</td>\n",
       "      <td>2nd of 2 or more primaries</td>\n",
       "      <td>Blank(s)</td>\n",
       "      <td>8010-8049: epithelial neoplasms, NOS</td>\n",
       "      <td>Blank(s)</td>\n",
       "      <td>0</td>\n",
       "      <td>Blank(s)</td>\n",
       "      <td>1</td>\n",
       "    </tr>\n",
       "    <tr>\n",
       "      <th>4</th>\n",
       "      <td>565</td>\n",
       "      <td>70-74 years</td>\n",
       "      <td>Female</td>\n",
       "      <td>Unknown</td>\n",
       "      <td>2</td>\n",
       "      <td>Blank(s)</td>\n",
       "      <td>Blank(s)</td>\n",
       "      <td>Blank(s)</td>\n",
       "      <td>C34.1-Upper lobe, lung</td>\n",
       "      <td>341</td>\n",
       "      <td>Hospital inpatient/outpatient or clinic</td>\n",
       "      <td>No</td>\n",
       "      <td>2nd of 2 or more primaries</td>\n",
       "      <td>0</td>\n",
       "      <td>8010-8049: epithelial neoplasms, NOS</td>\n",
       "      <td>None</td>\n",
       "      <td>0</td>\n",
       "      <td>44</td>\n",
       "      <td>0</td>\n",
       "    </tr>\n",
       "  </tbody>\n",
       "</table>\n",
       "</div>"
      ],
      "text/plain": [
       "   Patient ID Age recode with <1 year olds     Sex  \\\n",
       "0         273                  75-79 years  Female   \n",
       "1         390                  60-64 years    Male   \n",
       "2         455                  75-79 years    Male   \n",
       "3         542                  75-79 years  Female   \n",
       "4         565                  70-74 years  Female   \n",
       "\n",
       "                                    Grade  \\\n",
       "0            Well differentiated; Grade I   \n",
       "1        Poorly differentiated; Grade III   \n",
       "2        Poorly differentiated; Grade III   \n",
       "3  Undifferentiated; anaplastic; Grade IV   \n",
       "4                                 Unknown   \n",
       "\n",
       "  Total number of in situ/malignant tumors for patient  \\\n",
       "0                                                  2     \n",
       "1                                                  2     \n",
       "2                                                  2     \n",
       "3                                                  2     \n",
       "4                                                  2     \n",
       "\n",
       "  T value - based on AJCC 3rd (1988-2003)  \\\n",
       "0                                Blank(s)   \n",
       "1                                      T4   \n",
       "2                                Blank(s)   \n",
       "3                                      TX   \n",
       "4                                Blank(s)   \n",
       "\n",
       "  N value - based on AJCC 3rd (1988-2003)  \\\n",
       "0                                Blank(s)   \n",
       "1                                      N3   \n",
       "2                                Blank(s)   \n",
       "3                                      N3   \n",
       "4                                Blank(s)   \n",
       "\n",
       "  M value - based on AJCC 3rd (1988-2003)  Primary Site - labeled  \\\n",
       "0                                Blank(s)  C34.3-Lower lobe, lung   \n",
       "1                                      M0     C34.0-Main bronchus   \n",
       "2                                Blank(s)  C34.3-Lower lobe, lung   \n",
       "3                                      M1  C34.1-Upper lobe, lung   \n",
       "4                                Blank(s)  C34.1-Upper lobe, lung   \n",
       "\n",
       "   Primary Site                 Type of Reporting Source  \\\n",
       "0           343  Hospital inpatient/outpatient or clinic   \n",
       "1           340  Hospital inpatient/outpatient or clinic   \n",
       "2           343  Hospital inpatient/outpatient or clinic   \n",
       "3           341  Hospital inpatient/outpatient or clinic   \n",
       "4           341  Hospital inpatient/outpatient or clinic   \n",
       "\n",
       "  First malignant primary indicator             Sequence number  \\\n",
       "0                                No  2nd of 2 or more primaries   \n",
       "1                                No  2nd of 2 or more primaries   \n",
       "2                                No  2nd of 2 or more primaries   \n",
       "3                                No  2nd of 2 or more primaries   \n",
       "4                                No  2nd of 2 or more primaries   \n",
       "\n",
       "  CS lymph nodes (2004-2015)       Histology recode - broad groupings  \\\n",
       "0                          0  8140-8389: adenomas and adenocarcinomas   \n",
       "1                   Blank(s)  8140-8389: adenomas and adenocarcinomas   \n",
       "2                          0       8050-8089: squamous cell neoplasms   \n",
       "3                   Blank(s)     8010-8049: epithelial neoplasms, NOS   \n",
       "4                          0     8010-8049: epithelial neoplasms, NOS   \n",
       "\n",
       "        RX Summ--Scope Reg LN Sur (2003+)  RX Summ--Surg Prim Site (1998+)  \\\n",
       "0  4 or more regional lymph nodes removed                               30   \n",
       "1                                Blank(s)                                0   \n",
       "2  4 or more regional lymph nodes removed                               30   \n",
       "3                                Blank(s)                                0   \n",
       "4                                    None                                0   \n",
       "\n",
       "  CS tumor size (2004-2015) Survival months  \n",
       "0                        31             128  \n",
       "1                  Blank(s)               1  \n",
       "2                        55               5  \n",
       "3                  Blank(s)               1  \n",
       "4                        44               0  "
      ]
     },
     "execution_count": 2,
     "metadata": {},
     "output_type": "execute_result"
    }
   ],
   "source": [
    "lung_cancer=pd.read_csv(\"lungcancer2.csv\")\n",
    "lung_cancer.head()"
   ]
  },
  {
   "cell_type": "code",
   "execution_count": 3,
   "metadata": {},
   "outputs": [],
   "source": [
    "lung_cancer = lung_cancer.replace({'Blank(s)':np.nan})"
   ]
  },
  {
   "cell_type": "code",
   "execution_count": 4,
   "metadata": {},
   "outputs": [],
   "source": [
    "lung_cancer.rename(columns = {'T value - based on AJCC 3rd (1988-2003)':'T_value'}, inplace = True)\n",
    "lung_cancer.rename(columns = {'N value - based on AJCC 3rd (1988-2003)':'N_value'}, inplace = True)\n",
    "lung_cancer.rename(columns = {'M value - based on AJCC 3rd (1988-2003)':'M_value'}, inplace = True)\n",
    "lung_cancer.rename(columns = { 'Survival months':'Survival_months'}, inplace = True)\n",
    "lung_cancer.rename(columns = {'Age recode with <1 year olds':'Age'}, inplace = True)\n",
    "lung_cancer.rename(columns = {'Total number of in situ/malignant tumors for patient':'NumMaligantTumor'}, inplace = True)\n",
    "lung_cancer.rename(columns = {'Type of Reporting Source':'ReportingSource'}, inplace = True)\n",
    "lung_cancer.rename(columns = {'First malignant primary indicator':'MaligantIndicator'}, inplace = True)\n",
    "lung_cancer.rename(columns = {'CS lymph nodes (2004-2015)':'CSLymphNodes'}, inplace = True)\n",
    "lung_cancer.rename(columns = {'Histology recode - broad groupings':'History'}, inplace = True)\n",
    "lung_cancer.rename(columns = {'RX Summ--Surg Prim Site (1998+)':'RX Summ--Surg Prim Site'}, inplace = True)\n",
    "lung_cancer.rename(columns = {'CS tumor size (2004-2015)':'CSTumorSize'}, inplace = True)\n",
    "lung_cancer.rename(columns = {'Primary Site - labeled':'PrimarySite'}, inplace = True)\n",
    "\n",
    "lung_cancer.rename(columns = {'RX Summ--Scope Reg LN Sur (2003+)':'RX_Summ_Scope_Reg_LN_Sur'}, inplace = True)"
   ]
  },
  {
   "cell_type": "code",
   "execution_count": 5,
   "metadata": {},
   "outputs": [
    {
     "data": {
      "text/plain": [
       "Patient ID                       0\n",
       "Age                              0\n",
       "Sex                              0\n",
       "Grade                            0\n",
       "NumMaligantTumor                 0\n",
       "T_value                     722421\n",
       "N_value                     722421\n",
       "M_value                     722421\n",
       "PrimarySite                      0\n",
       "Primary Site                     0\n",
       "ReportingSource                  0\n",
       "MaligantIndicator                0\n",
       "Sequence number                  0\n",
       "CSLymphNodes                302472\n",
       "History                          0\n",
       "RX_Summ_Scope_Reg_LN_Sur    147973\n",
       "RX Summ--Surg Prim Site          0\n",
       "CSTumorSize                 302472\n",
       "Survival_months                  0\n",
       "dtype: int64"
      ]
     },
     "execution_count": 5,
     "metadata": {},
     "output_type": "execute_result"
    }
   ],
   "source": [
    "lung_cancer.isna().sum()"
   ]
  },
  {
   "cell_type": "code",
   "execution_count": 6,
   "metadata": {},
   "outputs": [
    {
     "name": "stdout",
     "output_type": "stream",
     "text": [
      "Patient ID :unique [     273      390      455 ... 75826061 75826072 75826108]\n",
      "****************************************************\n",
      "Age :unique ['75-79 years' '60-64 years' '70-74 years' '65-69 years' '50-54 years'\n",
      " '55-59 years' '80-84 years' '85+ years' '45-49 years' '25-29 years'\n",
      " '35-39 years' '40-44 years' '30-34 years' '20-24 years' '15-19 years'\n",
      " '10-14 years' '05-09 years' '00 years' '01-04 years']\n",
      "****************************************************\n",
      "Sex :unique ['Female' 'Male']\n",
      "****************************************************\n",
      "Grade :unique ['Well differentiated; Grade I' 'Poorly differentiated; Grade III'\n",
      " 'Undifferentiated; anaplastic; Grade IV' 'Unknown'\n",
      " 'Moderately differentiated; Grade II']\n",
      "****************************************************\n",
      "NumMaligantTumor :unique [2 3 4 1 5 6 7 9 8 '1' '2' '3' '4' '6' '5' '7' '8' '9' 'Unknown' 11 14 10\n",
      " '11' 34 '10' 15 '20']\n",
      "****************************************************\n",
      "T_value :unique [nan 'T4' 'TX' 'T1' 'TXa' 'T2' 'TXc' 'T3' 'TXb' 'T0']\n",
      "****************************************************\n",
      "N_value :unique [nan 'N3' 'N2' 'N0' 'NX' 'N1' 'NXr' 'NXu']\n",
      "****************************************************\n",
      "M_value :unique [nan 'M0' 'M1' 'MX']\n",
      "****************************************************\n",
      "PrimarySite :unique ['C34.3-Lower lobe, lung' 'C34.0-Main bronchus' 'C34.1-Upper lobe, lung'\n",
      " 'C34.9-Lung, NOS' 'C34.2-Middle lobe, lung'\n",
      " 'C34.8-Overlapping lesion of lung']\n",
      "****************************************************\n",
      "Primary Site :unique [343 340 341 349 342 348]\n",
      "****************************************************\n",
      "ReportingSource :unique ['Hospital inpatient/outpatient or clinic'\n",
      " 'Physicians office/private medical practitioner (LMD)'\n",
      " 'Laboratory only (hospital or private)' 'Autopsy only'\n",
      " 'Death certificate only' 'Nursing/convalescent home/hospice'\n",
      " 'Radiation treatment or medical oncology center (2006+)'\n",
      " 'Other hospital outpatient unit or surgery center (2006+)']\n",
      "****************************************************\n",
      "MaligantIndicator :unique ['No' 'Yes']\n",
      "****************************************************\n",
      "Sequence number :unique ['2nd of 2 or more primaries' '3rd of 3 or more primaries'\n",
      " 'One primary only' '4th of 4 or more primaries'\n",
      " '1st of 2 or more primaries' '5th of 5 or more primaries'\n",
      " '6th of 6 or more primaries' '8th of 8 or more primaries'\n",
      " '9th of 9 or more primaries' '7th of 7 or more primaries'\n",
      " 'Unknown seq num - federally required in situ or malig tumors'\n",
      " '10th of 10 or more primaries' '14th of 14 or more primaries'\n",
      " '34th of 34 or more primaries' '15th of 15 or more primaries'\n",
      " '20th of 20 or more primaries']\n",
      "****************************************************\n",
      "CSLymphNodes :unique ['0' nan '200' '999' '100' '600' '500' '800']\n",
      "****************************************************\n",
      "History :unique ['8140-8389: adenomas and adenocarcinomas'\n",
      " '8050-8089: squamous cell neoplasms'\n",
      " '8010-8049: epithelial neoplasms, NOS' '8550-8559: acinar cell neoplasms'\n",
      " '8000-8009: unspecified neoplasms'\n",
      " '8440-8499: cystic, mucinous and serous neoplasms'\n",
      " '8560-8579: complex epithelial neoplasms'\n",
      " '8810-8839: fibromatous neoplasms' '9120-9169: blood vessel tumors'\n",
      " '9040-9049: synovial-like neoplasms'\n",
      " '8930-8999: complex mixed and stromal neoplasms'\n",
      " '8800-8809: soft tissue tumors and sarcomas, NOS'\n",
      " '8430-8439: mucoepidermoid neoplasms'\n",
      " '8500-8549: ductal and lobular neoplasms'\n",
      " '8890-8929: myomatous neoplasms'\n",
      " '8120-8139: transitional cell papillomas and carcinomas'\n",
      " '8680-8719: paragangliomas and glumus tumors'\n",
      " '9180-9249: osseous and chondromatous neoplasms'\n",
      " '9060-9099: germ cell neoplasms' '9540-9579: nerve sheath tumors'\n",
      " '9100-9109: trophoblastic neoplasms' '9350-9379: miscellaneous tumors'\n",
      " '8720-8799: nevi and melanomas' '8580-8589: thymic epithelial neoplasms'\n",
      " '8090-8119: basal cell neoplasms' '9380-9489: gliomas'\n",
      " '8840-8849: myxomatous neoplasms'\n",
      " '8390-8429: adnexal and skin appendage neoplasms'\n",
      " '8850-8889: lipomatous neoplasms'\n",
      " '9260-9269: miscellaneous bone tumors (C40._, C41._)'\n",
      " '9530-9539: meningiomas' '8590-8679: specialized gonadal neoplasms'\n",
      " '9580-9589: granular cell tumors & alveolar soft part sarcoma'\n",
      " '9490-9529: neuroepitheliomatous neoplasms'\n",
      " '9000-9039: fibroepithelial neoplasms' '9250-9259: giant cell tumors'\n",
      " '9270-9349: odontogenic tumors (C41._)']\n",
      "****************************************************\n",
      "RX_Summ_Scope_Reg_LN_Sur :unique ['4 or more regional lymph nodes removed' nan 'None'\n",
      " 'Number of regional lymph nodes removed unknown'\n",
      " '1 to 3 regional lymph nodes removed' 'Unknown or not applicable'\n",
      " 'Biopsy or aspiration of regional lymph node, NOS'\n",
      " 'Sentinel lymph node biopsy'\n",
      " 'Sentinel node biopsy and lym nd removed same/unstated time'\n",
      " 'Sentinel node biopsy and lym nd removed different times']\n",
      "****************************************************\n",
      "RX Summ--Surg Prim Site :unique [30  0 90 33 45 21 23 24 55 80 22 99 56 15 13 20 12 46 70 19 47 25 65 48\n",
      " 66]\n",
      "****************************************************\n",
      "CSTumorSize :unique ['31' nan '55' '44' '30' '14' '16' '999' '58' '28' '35' '67' '50' '26'\n",
      " '59' '45' '100' '990' '40' '15' '120' '80' '34' '23' '37' '17' '75' '20'\n",
      " '60' '12' '150' '43' '8' '5' '76' '2' '25' '27' '70' '996' '18' '13' '11'\n",
      " '53' '21' '85' '48' '36' '109' '29' '19' '10' '56' '74' '65' '90' '33'\n",
      " '993' '130' '39' '107' '24' '52' '42' '62' '78' '57' '95' '22' '113' '64'\n",
      " '93' '63' '32' '97' '38' '49' '77' '46' '145' '61' '54' '47' '73' '84'\n",
      " '88' '103' '99' '51' '6' '71' '72' '86' '69' '9' '94' '87' '82' '98'\n",
      " '135' '41' '106' '0' '110' '121' '180' '108' '998' '92' '7' '68' '126'\n",
      " '66' '89' '151' '900' '91' '989' '79' '992' '129' '115' '994' '105' '81'\n",
      " '140' '510' '160' '3' '240' '123' '101' '96' '1' '4' '490' '133' '200'\n",
      " '124' '112' '290' '83' '127' '991' '122' '995' '104' '125' '170' '235'\n",
      " '980' '128' '175' '410' '116' '997' '450' '190' '134' '165' '137' '131'\n",
      " '148' '138' '102' '143' '700' '132' '163' '114' '117' '136' '119' '600'\n",
      " '142' '149' '118' '173' '169' '147' '153' '940' '550' '111' '157' '305'\n",
      " '230' '590' '922' '215' '935' '540' '888' '500' '340' '158' '730' '870'\n",
      " '146' '251' '246' '168' '159' '181' '154' '156' '627' '988' '177' '227'\n",
      " '141' '164' '220' '380' '155' '189' '304' '187' '960' '250' '959' '167'\n",
      " '174' '650' '800' '454' '850' '920' '950' '946' '714' '840' '670' '625'\n",
      " '183' '820' '194' '210' '260' '217' '349' '482' '225' '144' '184' '702'\n",
      " '750' '185' '139' '690' '166' '710' '402' '970' '152' '570' '300' '760'\n",
      " '440' '219' '390' '204' '162' '270' '455' '350' '320' '237' '460' '480'\n",
      " '400' '420' '370' '470' '193' '172' '188' '203' '199' '810' '660' '197'\n",
      " '264' '330' '178' '442' '280' '198' '247' '910' '560' '790' '770' '902'\n",
      " '176' '485' '930' '275' '218' '666' '171' '830' '705' '161' '213' '321'\n",
      " '236' '202' '339' '228' '360' '537' '248' '740' '762' '179' '673' '430'\n",
      " '214' '245' '224' '880' '206' '488' '948' '709' '919' '191' '201' '964'\n",
      " '816' '383' '520' '195' '580' '605' '879' '932' '890' '211' '954' '780'\n",
      " '680' '907' '865' '505' '186' '839' '630' '422' '315' '182' '398' '192'\n",
      " '401' '826' '267' '276']\n",
      "****************************************************\n",
      "Survival_months :unique ['128' '1' '5' '0' '3' '95' '29' '18' '23' '14' '7' '67' '22' '8' '47'\n",
      " '46' '68' '17' '2' '33' '94' '54' '10' '9' '24' '13' '16' '4' '15' '116'\n",
      " '42' '87' '163' '20' '25' '71' '37' '45' '12' '11' '6' '155' '76' '40'\n",
      " '35' '30' '112' '118' '51' '50' '208' '19' '26' '97' '32' '21' '38' '102'\n",
      " '34' '53' '59' '119' '27' '161' '164' '167' '65' '211' 'Unknown' '100'\n",
      " '43' '108' '28' '199' '135' '36' '114' '86' '69' '31' '44' '152' '72'\n",
      " '160' '107' '113' '78' '41' '162' '55' '175' '99' '63' '61' '195' '105'\n",
      " '200' '91' '77' '56' '85' '181' '66' '49' '101' '98' '111' '70' '81'\n",
      " '148' '193' '117' '92' '129' '156' '109' '57' '39' '124' '89' '122' '209'\n",
      " '64' '110' '142' '197' '144' '58' '120' '48' '60' '121' '177' '52' '179'\n",
      " '137' '80' '79' '83' '75' '74' '96' '104' '62' '183' '106' '140' '186'\n",
      " '174' '127' '139' '176' '134' '159' '180' '168' '73' '151' '147' '126'\n",
      " '204' '185' '145' '154' '88' '133' '130' '149' '90' '84' '82' '136' '141'\n",
      " '166' '125' '131' '191' '103' '150' '115' '157' '205' '210' '196' '173'\n",
      " '132' '171' '187' '192' '146' '203' '153' '169' '213' '189' '214' '215'\n",
      " '212' '206' '182' '190' '93' '184' '172' '143' '207' '123' '188' '201'\n",
      " '194' '198' '158' '138' '202' '165' '178' '170']\n",
      "****************************************************\n"
     ]
    }
   ],
   "source": [
    "for col in lung_cancer.columns:\n",
    "    print('{} :unique {}'.format(col, lung_cancer[col].unique()))\n",
    "    print('****************************************************')"
   ]
  },
  {
   "cell_type": "code",
   "execution_count": 7,
   "metadata": {},
   "outputs": [],
   "source": [
    "lung_cancer = lung_cancer.drop(columns=['T_value','N_value','M_value', 'ReportingSource','Primary Site'])"
   ]
  },
  {
   "cell_type": "code",
   "execution_count": 8,
   "metadata": {},
   "outputs": [
    {
     "data": {
      "text/plain": [
       "Patient ID                       0\n",
       "Age                              0\n",
       "Sex                              0\n",
       "Grade                            0\n",
       "NumMaligantTumor                 0\n",
       "PrimarySite                      0\n",
       "MaligantIndicator                0\n",
       "Sequence number                  0\n",
       "CSLymphNodes                302472\n",
       "History                          0\n",
       "RX_Summ_Scope_Reg_LN_Sur    147973\n",
       "RX Summ--Surg Prim Site          0\n",
       "CSTumorSize                 302472\n",
       "Survival_months                  0\n",
       "dtype: int64"
      ]
     },
     "execution_count": 8,
     "metadata": {},
     "output_type": "execute_result"
    }
   ],
   "source": [
    "lung_cancer.isna().sum()"
   ]
  },
  {
   "cell_type": "code",
   "execution_count": 11,
   "metadata": {},
   "outputs": [],
   "source": [
    "lung_cancer = lung_cancer[lung_cancer['CSTumorSize'].notna()]\n",
    "lung_cancer = lung_cancer.reset_index()"
   ]
  },
  {
   "cell_type": "code",
   "execution_count": 12,
   "metadata": {},
   "outputs": [],
   "source": [
    "lung_cancer = lung_cancer.drop(columns=['index','Patient ID'])"
   ]
  },
  {
   "cell_type": "code",
   "execution_count": 13,
   "metadata": {},
   "outputs": [],
   "source": [
    "lung_cancer = lung_cancer.drop(lung_cancer[(lung_cancer.Survival_months =='Unknown')].index)"
   ]
  },
  {
   "cell_type": "code",
   "execution_count": 15,
   "metadata": {},
   "outputs": [],
   "source": [
    "lung_cancer = lung_cancer.drop(lung_cancer[(lung_cancer.NumMaligantTumor =='Unknown')].index)"
   ]
  },
  {
   "cell_type": "code",
   "execution_count": 16,
   "metadata": {},
   "outputs": [],
   "source": [
    "lung_cancer = lung_cancer.drop(lung_cancer[(lung_cancer.Grade =='Unknown')].index)"
   ]
  },
  {
   "cell_type": "code",
   "execution_count": 17,
   "metadata": {},
   "outputs": [],
   "source": [
    "lung_cancer = lung_cancer.reset_index()\n",
    "lung_cancer = lung_cancer.drop(columns=['index'])"
   ]
  },
  {
   "cell_type": "code",
   "execution_count": 18,
   "metadata": {},
   "outputs": [
    {
     "name": "stdout",
     "output_type": "stream",
     "text": [
      "Age :unique ['75-79 years' '50-54 years' '80-84 years' '60-64 years' '70-74 years'\n",
      " '55-59 years' '25-29 years' '85+ years' '65-69 years' '45-49 years'\n",
      " '40-44 years' '35-39 years' '10-14 years' '15-19 years' '20-24 years'\n",
      " '30-34 years' '05-09 years' '01-04 years' '00 years']\n",
      "****************************************************\n",
      "Sex :unique ['Female' 'Male']\n",
      "****************************************************\n",
      "Grade :unique ['Well differentiated; Grade I' 'Poorly differentiated; Grade III'\n",
      " 'Undifferentiated; anaplastic; Grade IV'\n",
      " 'Moderately differentiated; Grade II']\n",
      "****************************************************\n",
      "NumMaligantTumor :unique [2 4 3 5 6 7 9 8 1 '1' '2' '3' '4' '6' '5' '7' '8' '9' 11 '11' 10 15 '20'\n",
      " '10']\n",
      "****************************************************\n",
      "PrimarySite :unique ['C34.3-Lower lobe, lung' 'C34.0-Main bronchus' 'C34.1-Upper lobe, lung'\n",
      " 'C34.2-Middle lobe, lung' 'C34.9-Lung, NOS'\n",
      " 'C34.8-Overlapping lesion of lung']\n",
      "****************************************************\n",
      "MaligantIndicator :unique ['No' 'Yes']\n",
      "****************************************************\n",
      "Sequence number :unique ['2nd of 2 or more primaries' '3rd of 3 or more primaries'\n",
      " '4th of 4 or more primaries' '5th of 5 or more primaries'\n",
      " '6th of 6 or more primaries' '7th of 7 or more primaries'\n",
      " '1st of 2 or more primaries' 'One primary only'\n",
      " '8th of 8 or more primaries' '10th of 10 or more primaries'\n",
      " '9th of 9 or more primaries' '15th of 15 or more primaries'\n",
      " '20th of 20 or more primaries']\n",
      "****************************************************\n",
      "CSLymphNodes :unique ['0' '200' '600' '100' '999' '500' '800']\n",
      "****************************************************\n",
      "History :unique ['8140-8389: adenomas and adenocarcinomas'\n",
      " '8050-8089: squamous cell neoplasms'\n",
      " '8010-8049: epithelial neoplasms, NOS' '8550-8559: acinar cell neoplasms'\n",
      " '8440-8499: cystic, mucinous and serous neoplasms'\n",
      " '8930-8999: complex mixed and stromal neoplasms'\n",
      " '8560-8579: complex epithelial neoplasms'\n",
      " '8800-8809: soft tissue tumors and sarcomas, NOS'\n",
      " '9120-9169: blood vessel tumors'\n",
      " '8500-8549: ductal and lobular neoplasms'\n",
      " '8000-8009: unspecified neoplasms' '8430-8439: mucoepidermoid neoplasms'\n",
      " '9180-9249: osseous and chondromatous neoplasms'\n",
      " '8120-8139: transitional cell papillomas and carcinomas'\n",
      " '8810-8839: fibromatous neoplasms' '9060-9099: germ cell neoplasms'\n",
      " '8890-8929: myomatous neoplasms' '9040-9049: synovial-like neoplasms'\n",
      " '9100-9109: trophoblastic neoplasms' '8840-8849: myxomatous neoplasms'\n",
      " '8390-8429: adnexal and skin appendage neoplasms'\n",
      " '8850-8889: lipomatous neoplasms'\n",
      " '9260-9269: miscellaneous bone tumors (C40._, C41._)'\n",
      " '9540-9579: nerve sheath tumors' '8720-8799: nevi and melanomas'\n",
      " '9000-9039: fibroepithelial neoplasms' '9380-9489: gliomas'\n",
      " '9350-9379: miscellaneous tumors' '9270-9349: odontogenic tumors (C41._)']\n",
      "****************************************************\n",
      "RX_Summ_Scope_Reg_LN_Sur :unique ['4 or more regional lymph nodes removed' 'None'\n",
      " '1 to 3 regional lymph nodes removed'\n",
      " 'Biopsy or aspiration of regional lymph node, NOS'\n",
      " 'Sentinel lymph node biopsy'\n",
      " 'Number of regional lymph nodes removed unknown'\n",
      " 'Unknown or not applicable'\n",
      " 'Sentinel node biopsy and lym nd removed same/unstated time'\n",
      " 'Sentinel node biopsy and lym nd removed different times']\n",
      "****************************************************\n",
      "RX Summ--Surg Prim Site :unique [30  0 33 45 21 80 23 22 55 56 15 12 46 90 24 20 13 47 70 65 48 25 99 19\n",
      " 66]\n",
      "****************************************************\n",
      "CSTumorSize :unique ['31' '55' '16' '28' '30' '59' '45' '100' '999' '15' '120' '17' '20' '12'\n",
      " '26' '80' '35' '50' '27' '40' '13' '11' '21' '14' '25' '36' '43' '37'\n",
      " '19' '10' '67' '90' '993' '74' '24' '39' '60' '33' '57' '65' '18' '34'\n",
      " '95' '75' '48' '97' '44' '38' '49' '145' '22' '54' '73' '8' '88' '56'\n",
      " '103' '63' '42' '6' '71' '72' '86' '23' '69' '82' '58' '70' '9' '32' '41'\n",
      " '85' '0' '110' '53' '180' '108' '46' '76' '113' '29' '126' '89' '992'\n",
      " '994' '105' '81' '52' '62' '47' '150' '68' '93' '92' '510' '78' '160' '7'\n",
      " '989' '79' '84' '135' '123' '51' '66' '1' '4' '140' '5' '130' '77' '2'\n",
      " '996' '3' '87' '64' '490' '133' '200' '124' '96' '290' '998' '83' '91'\n",
      " '122' '61' '98' '990' '106' '235' '980' '121' '128' '170' '175' '125'\n",
      " '997' '450' '190' '104' '131' '148' '134' '138' '115' '101' '99' '102'\n",
      " '136' '119' '107' '94' '142' '137' '147' '995' '149' '153' '109' '132'\n",
      " '114' '940' '118' '112' '215' '935' '991' '540' '116' '500' '870' '251'\n",
      " '127' '157' '158' '159' '181' '156' '111' '550' '627' '129' '141' '117'\n",
      " '220' '380' '230' '187' '146' '600' '650' '250' '800' '920' '946' '840'\n",
      " '183' '194' '143' '164' '217' '960' '349' '225' '260' '702' '185' '155'\n",
      " '163' '139' '690' '165' '166' '710' '189' '730' '144' '167' '240' '210'\n",
      " '174' '402' '970' '152' '570' '888' '204' '151' '162' '270' '455' '350'\n",
      " '237' '340' '390' '590' '420' '460' '370' '820' '400' '470' '172' '188'\n",
      " '203' '199' '154' '184' '660' '280' '300' '700' '910' '790' '770' '169'\n",
      " '197' '176' '168' '218' '171' '173' '480' '666' '900' '213' '236' '202'\n",
      " '161' '228' '360' '537' '740' '950' '850' '750' '810' '880' '193' '816'\n",
      " '383' '320' '520' '195' '605' '879' '932' '890' '505' '630' '422' '580'\n",
      " '182' '401' '179' '186' '177' '178']\n",
      "****************************************************\n",
      "Survival_months :unique ['128' '5' '23' '29' '8' '47' '46' '7' '94' '54' '10' '0' '15' '163' '25'\n",
      " '45' '20' '1' '2' '155' '76' '112' '118' '17' '51' '16' '32' '102' '22'\n",
      " '34' '21' '26' '161' '164' '167' '68' '65' '100' '42' '43' '6' '35' '135'\n",
      " '3' '18' '36' '53' '27' '69' '44' '11' '33' '41' '162' '99' '63' '105'\n",
      " '4' '152' '12' '91' '77' '24' '85' '56' '13' '14' '86' '30' '9' '148'\n",
      " '59' '92' '129' '40' '81' '39' '107' '124' '19' '101' '49' '38' '70'\n",
      " '109' '28' '108' '58' '48' '61' '67' '121' '160' '80' '60' '55' '83' '75'\n",
      " '96' '74' '114' '62' '106' '57' '140' '127' '134' '52' '116' '64' '151'\n",
      " '120' '126' '50' '145' '154' '37' '149' '95' '90' '104' '133' '73' '66'\n",
      " '82' '88' '110' '141' '31' '97' '131' '103' '79' '150' '84' '115' '87'\n",
      " '130' '159' '111' '125' '113' '72' '78' '132' '71' '153' '93' '89' '158'\n",
      " '98' '144' '138' '119' '142' '165' '139' '123' '143' '156' '166' '122'\n",
      " '117' '137' '146' '147' '136' '157']\n",
      "****************************************************\n"
     ]
    }
   ],
   "source": [
    "for col in lung_cancer.columns:\n",
    "    print('{} :unique {}'.format(col, lung_cancer[col].unique()))\n",
    "    print('****************************************************')"
   ]
  },
  {
   "cell_type": "code",
   "execution_count": 19,
   "metadata": {},
   "outputs": [
    {
     "data": {
      "text/plain": [
       "Age                         object\n",
       "Sex                         object\n",
       "Grade                       object\n",
       "NumMaligantTumor            object\n",
       "PrimarySite                 object\n",
       "MaligantIndicator           object\n",
       "Sequence number             object\n",
       "CSLymphNodes                object\n",
       "History                     object\n",
       "RX_Summ_Scope_Reg_LN_Sur    object\n",
       "RX Summ--Surg Prim Site      int64\n",
       "CSTumorSize                 object\n",
       "Survival_months             object\n",
       "dtype: object"
      ]
     },
     "execution_count": 19,
     "metadata": {},
     "output_type": "execute_result"
    }
   ],
   "source": [
    "lung_cancer.dtypes"
   ]
  },
  {
   "cell_type": "code",
   "execution_count": 20,
   "metadata": {},
   "outputs": [],
   "source": [
    "to_transform = ['Age', 'Sex','Grade', 'PrimarySite',\n",
    "                'MaligantIndicator', 'Sequence number',  'History',\n",
    "                'RX_Summ_Scope_Reg_LN_Sur']"
   ]
  },
  {
   "cell_type": "code",
   "execution_count": 21,
   "metadata": {},
   "outputs": [
    {
     "name": "stdout",
     "output_type": "stream",
     "text": [
      "Age\n",
      "Sex\n",
      "Grade\n",
      "NumMaligantTumor\n",
      "PrimarySite\n",
      "MaligantIndicator\n",
      "Sequence number\n",
      "CSLymphNodes\n",
      "History\n",
      "RX_Summ_Scope_Reg_LN_Sur\n",
      "RX Summ--Surg Prim Site\n",
      "CSTumorSize\n",
      "Survival_months\n"
     ]
    }
   ],
   "source": [
    "for col in lung_cancer.columns:\n",
    "    print(col)\n",
    "    if col in to_transform:\n",
    "        lung_cancer[col] = pd.Categorical(lung_cancer[col])\n",
    "    else:\n",
    "        lung_cancer[col] = pd.to_numeric(lung_cancer[col])"
   ]
  },
  {
   "cell_type": "code",
   "execution_count": 22,
   "metadata": {},
   "outputs": [
    {
     "data": {
      "text/plain": [
       "Age                         category\n",
       "Sex                         category\n",
       "Grade                       category\n",
       "NumMaligantTumor               int64\n",
       "PrimarySite                 category\n",
       "MaligantIndicator           category\n",
       "Sequence number             category\n",
       "CSLymphNodes                   int64\n",
       "History                     category\n",
       "RX_Summ_Scope_Reg_LN_Sur    category\n",
       "RX Summ--Surg Prim Site        int64\n",
       "CSTumorSize                    int64\n",
       "Survival_months                int64\n",
       "dtype: object"
      ]
     },
     "execution_count": 22,
     "metadata": {},
     "output_type": "execute_result"
    }
   ],
   "source": [
    "lung_cancer.dtypes"
   ]
  },
  {
   "cell_type": "code",
   "execution_count": 23,
   "metadata": {},
   "outputs": [],
   "source": [
    "df = lung_cancer.copy()"
   ]
  },
  {
   "cell_type": "code",
   "execution_count": 24,
   "metadata": {},
   "outputs": [],
   "source": [
    "le = preprocessing.LabelEncoder()"
   ]
  },
  {
   "cell_type": "code",
   "execution_count": 25,
   "metadata": {},
   "outputs": [],
   "source": [
    "for col in to_transform:\n",
    "    df[col] = le.fit_transform(df[col])"
   ]
  },
  {
   "cell_type": "code",
   "execution_count": 26,
   "metadata": {},
   "outputs": [],
   "source": [
    "df=df[df['Survival_months']<=35]\n",
    "#df=df[df['Survival_months']<=72]"
   ]
  },
  {
   "cell_type": "code",
   "execution_count": 27,
   "metadata": {},
   "outputs": [],
   "source": [
    "x = df[df.columns[:-1]].to_numpy()\n",
    "y = df[df.columns[-1]].to_numpy()"
   ]
  },
  {
   "cell_type": "code",
   "execution_count": 28,
   "metadata": {},
   "outputs": [],
   "source": [
    "### chi2 test\n",
    "test2 = SelectKBest(chi2, k=9)\n",
    "x_new= test2.fit_transform(x, y)"
   ]
  },
  {
   "cell_type": "code",
   "execution_count": 29,
   "metadata": {},
   "outputs": [],
   "source": [
    "from sklearn.model_selection import train_test_split\n",
    "from sklearn.ensemble import RandomForestRegressor\n",
    "from sklearn.model_selection import KFold, cross_val_score,cross_val_predict\n",
    "from sklearn import metrics\n",
    "from matplotlib import pyplot as plt\n",
    "from sklearn.metrics import mean_squared_error\n",
    "import math"
   ]
  },
  {
   "cell_type": "code",
   "execution_count": 30,
   "metadata": {},
   "outputs": [],
   "source": [
    "x_train, x_test, y_train, y_test = train_test_split(x, y, test_size=0.20, random_state=101)"
   ]
  },
  {
   "cell_type": "code",
   "execution_count": 31,
   "metadata": {},
   "outputs": [
    {
     "name": "stdout",
     "output_type": "stream",
     "text": [
      "True mean value 10.822138286411484\n",
      "True Standard Deviation value 10.018077297196946\n"
     ]
    }
   ],
   "source": [
    "print(\"True mean value\",np.mean(y_train))\n",
    "print(\"True Standard Deviation value\",np.std(y_train))"
   ]
  },
  {
   "cell_type": "code",
   "execution_count": 34,
   "metadata": {},
   "outputs": [
    {
     "name": "stdout",
     "output_type": "stream",
     "text": [
      "Train Index:  [     0      1      3 ... 154082 154084 154085] \n",
      "\n",
      "Test Index:  [     2      4      5 ... 154073 154076 154083]\n",
      "Train Index:  [     0      2      3 ... 154082 154083 154084] \n",
      "\n",
      "Test Index:  [     1      6      9 ... 154078 154079 154085]\n",
      "Train Index:  [     0      1      2 ... 154082 154083 154085] \n",
      "\n",
      "Test Index:  [     3     10     14 ... 154075 154080 154084]\n",
      "Train Index:  [     0      1      2 ... 154083 154084 154085] \n",
      "\n",
      "Test Index:  [     7     23     25 ... 154069 154081 154082]\n",
      "Train Index:  [     1      2      3 ... 154083 154084 154085] \n",
      "\n",
      "Test Index:  [     0      8     21 ... 154064 154071 154074]\n"
     ]
    }
   ],
   "source": [
    "s=[]\n",
    "rf = RandomForestRegressor(n_estimators = 100 ,random_state = 42)\n",
    "cv = KFold(n_splits=5, random_state=40, shuffle=True)\n",
    "for train_index, test_index in cv.split(x_train):\n",
    "    print(\"Train Index: \", train_index, \"\\n\")\n",
    "    print(\"Test Index: \", test_index)\n",
    "\n",
    "    x1_train, x1_test, y1_train, y1_test = x_train[train_index], x_train[test_index], y_train[train_index], y_train[test_index]\n",
    "    rf.fit(x1_train, y1_train)\n",
    "    s.append(rf.score(x1_test, y1_test))"
   ]
  },
  {
   "cell_type": "code",
   "execution_count": 35,
   "metadata": {},
   "outputs": [
    {
     "data": {
      "text/plain": [
       "RandomForestRegressor(bootstrap=True, criterion='mse', max_depth=None,\n",
       "                      max_features='auto', max_leaf_nodes=None,\n",
       "                      min_impurity_decrease=0.0, min_impurity_split=None,\n",
       "                      min_samples_leaf=1, min_samples_split=2,\n",
       "                      min_weight_fraction_leaf=0.0, n_estimators=100,\n",
       "                      n_jobs=None, oob_score=False, random_state=42, verbose=0,\n",
       "                      warm_start=False)"
      ]
     },
     "execution_count": 35,
     "metadata": {},
     "output_type": "execute_result"
    }
   ],
   "source": [
    "# Instantiate model with 100 decision trees\n",
    "rf = RandomForestRegressor(n_estimators = 100,random_state = 42)\n",
    "# Train the model on training data\n",
    "rf.fit(x_train, y_train)"
   ]
  },
  {
   "cell_type": "code",
   "execution_count": 36,
   "metadata": {},
   "outputs": [],
   "source": [
    "# Predict the final value\n",
    "prediction1=rf.predict(x_test)"
   ]
  },
  {
   "cell_type": "code",
   "execution_count": 37,
   "metadata": {},
   "outputs": [
    {
     "name": "stdout",
     "output_type": "stream",
     "text": [
      "Mean Value 11.0096096068834\n",
      "Standard Deviation Value 6.113904462585466\n",
      "standard Deviation residual 5.837843799573205\n"
     ]
    }
   ],
   "source": [
    "# find different metrices\n",
    "final_value=abs(y_test-prediction1)\n",
    "print(\"Mean Value\",np.mean(prediction1))\n",
    "print(\"Standard Deviation Value\",np.std(prediction1))\n",
    "print(\"standard Deviation residual\",np.std(final_value))"
   ]
  },
  {
   "cell_type": "code",
   "execution_count": 38,
   "metadata": {},
   "outputs": [
    {
     "name": "stdout",
     "output_type": "stream",
     "text": [
      "Root Mean Squared Error: 9.54\n"
     ]
    }
   ],
   "source": [
    "# find the mean square error\n",
    "error=mean_squared_error(y_test,prediction1)\n",
    "print('Root Mean Squared Error:',round(math.sqrt(error),2))"
   ]
  },
  {
   "cell_type": "code",
   "execution_count": 39,
   "metadata": {},
   "outputs": [],
   "source": [
    "#Linear Regression\n",
    "from sklearn.linear_model import LogisticRegression"
   ]
  },
  {
   "cell_type": "code",
   "execution_count": 41,
   "metadata": {},
   "outputs": [
    {
     "name": "stdout",
     "output_type": "stream",
     "text": [
      "Train Index:  [     0      1      3 ... 154082 154084 154085] \n",
      "\n",
      "Test Index:  [     2      4      5 ... 154073 154076 154083]\n",
      "Train Index:  [     0      2      3 ... 154082 154083 154084] \n",
      "\n",
      "Test Index:  [     1      6      9 ... 154078 154079 154085]\n",
      "Train Index:  [     0      1      2 ... 154082 154083 154085] \n",
      "\n",
      "Test Index:  [     3     10     14 ... 154075 154080 154084]\n",
      "Train Index:  [     0      1      2 ... 154083 154084 154085] \n",
      "\n",
      "Test Index:  [     7     23     25 ... 154069 154081 154082]\n",
      "Train Index:  [     1      2      3 ... 154083 154084 154085] \n",
      "\n",
      "Test Index:  [     0      8     21 ... 154064 154071 154074]\n"
     ]
    }
   ],
   "source": [
    "scores=[]\n",
    "log_reg=LinearRegression()\n",
    "cv = KFold(n_splits=5, random_state=40, shuffle=True)\n",
    "for train_index, test_index in cv.split(x_train):\n",
    "    print(\"Train Index: \", train_index, \"\\n\")\n",
    "    print(\"Test Index: \", test_index)\n",
    "\n",
    "    x1_train, x1_test, y1_train, y1_test = x_train[train_index], x_train[test_index], y_train[train_index], y_train[test_index]\n",
    "    log_reg.fit(x1_train, y1_train)\n",
    "    scores.append(log_reg.score(x1_test, y1_test))"
   ]
  },
  {
   "cell_type": "code",
   "execution_count": 43,
   "metadata": {},
   "outputs": [
    {
     "data": {
      "text/plain": [
       "LinearRegression(copy_X=True, fit_intercept=True, n_jobs=None, normalize=False)"
      ]
     },
     "execution_count": 43,
     "metadata": {},
     "output_type": "execute_result"
    }
   ],
   "source": [
    "### Trained the model with best params \n",
    "log_reg=LinearRegression()\n",
    "log_reg.fit(x_train,y_train)"
   ]
  },
  {
   "cell_type": "code",
   "execution_count": 44,
   "metadata": {},
   "outputs": [],
   "source": [
    "# Predict the final value\n",
    "prediction2=log_reg.predict(x_test)"
   ]
  },
  {
   "cell_type": "code",
   "execution_count": 45,
   "metadata": {},
   "outputs": [
    {
     "name": "stdout",
     "output_type": "stream",
     "text": [
      "Mean Value 10.80031505456779\n",
      "Standard Deviation Value 4.102879383480804\n",
      "standard Deviation residual 5.264996068251592\n"
     ]
    }
   ],
   "source": [
    "# Find different Metrices\n",
    "final_value=abs(y_test-prediction2)\n",
    "print(\"Mean Value\",np.mean(prediction2))\n",
    "print(\"Standard Deviation Value\",np.std(prediction2))\n",
    "print(\"standard Deviation residual\",np.std(final_value))"
   ]
  },
  {
   "cell_type": "code",
   "execution_count": 46,
   "metadata": {},
   "outputs": [
    {
     "name": "stdout",
     "output_type": "stream",
     "text": [
      "Root Mean Squared Error: 9.16\n"
     ]
    }
   ],
   "source": [
    "# find mean square error\n",
    "error=mean_squared_error(y_test,prediction2)\n",
    "print('Root Mean Squared Error:',round(math.sqrt(error),2))"
   ]
  },
  {
   "cell_type": "code",
   "execution_count": null,
   "metadata": {},
   "outputs": [],
   "source": []
  }
 ],
 "metadata": {
  "kernelspec": {
   "display_name": "Python 3",
   "language": "python",
   "name": "python3"
  },
  "language_info": {
   "codemirror_mode": {
    "name": "ipython",
    "version": 3
   },
   "file_extension": ".py",
   "mimetype": "text/x-python",
   "name": "python",
   "nbconvert_exporter": "python",
   "pygments_lexer": "ipython3",
   "version": "3.7.3"
  }
 },
 "nbformat": 4,
 "nbformat_minor": 2
}
